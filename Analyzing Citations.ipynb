{
 "cells": [
  {
   "cell_type": "code",
   "execution_count": 2,
   "metadata": {
    "collapsed": true
   },
   "outputs": [],
   "source": [
    "import pandas as pd\n",
    "from datetime import datetime, date\n",
    "import numpy as np\n",
    "from sklearn import ensemble, model_selection, preprocessing\n",
    "import matplotlib.pyplot as plt\n",
    "import operator"
   ]
  },
  {
   "cell_type": "markdown",
   "metadata": {},
   "source": [
    "## Import Data"
   ]
  },
  {
   "cell_type": "code",
   "execution_count": 3,
   "metadata": {
    "collapsed": false
   },
   "outputs": [],
   "source": [
    "def importData(filename):\n",
    "    data = pd.read_csv(filename, sep='\\t', low_memory=False)\n",
    "    return data"
   ]
  },
  {
   "cell_type": "code",
   "execution_count": 4,
   "metadata": {
    "collapsed": false
   },
   "outputs": [],
   "source": [
    "data06 = importData('citations2006.tsv')\n",
    "data07 = importData('citations2007.tsv')\n",
    "data08 = importData('citations2008.tsv')\n",
    "data09 = importData('citations2009.tsv')\n",
    "data10 = importData('citations2010.tsv')\n",
    "data11 = importData('citations2011.tsv')\n",
    "data12 = importData('citations2012.tsv')\n",
    "data13 = importData('citations2013.tsv')\n",
    "data14 = importData('citations2014partial.tsv') # Partial"
   ]
  },
  {
   "cell_type": "code",
   "execution_count": 5,
   "metadata": {
    "collapsed": false
   },
   "outputs": [],
   "source": [
    "data = pd.concat([data06, data07, data08, data09,\n",
    "                 data10, data11, data12, data13, data14]).reset_index()"
   ]
  },
  {
   "cell_type": "code",
   "execution_count": 6,
   "metadata": {
    "collapsed": false
   },
   "outputs": [
    {
     "data": {
      "text/plain": [
       "1024303"
      ]
     },
     "execution_count": 6,
     "metadata": {},
     "output_type": "execute_result"
    }
   ],
   "source": [
    "len(data)"
   ]
  },
  {
   "cell_type": "markdown",
   "metadata": {},
   "source": [
    "## Exploring Features"
   ]
  },
  {
   "cell_type": "markdown",
   "metadata": {},
   "source": [
    "In this section, we will explore the basic features provided in the dataset.\n",
    "\n",
    "**Description of Features:**\n",
    "\n",
    "* Created\n",
    "    * * `index`: original index of entry in datasets separated by years. Only present for ID purposes; non-substantive.\n",
    "\n",
    "* Citation Information (information about the citation itself)\n",
    "    * `CitationNumber`: ID number assigned by Philadelphia government; each citation has a unique `CitationNumber`.\n",
    "    * `FiledDate`: date the citation was processed in the appropriate office.\n",
    "    * `IssueDate`: date the citation was issued.  \n",
    "    * `ViolationCode`: [some violation codes](http://william.e.jones.tripod.com/law/traffic_violations.htm). Haven't been able to find a full list of violation codes.\n",
    "    * `ViolationTitle`: description of the violation.\n",
    "    * `Location`: where the citation was issued.\n",
    "    * `Agency`: the agency that issued the citation (e.g., Penn police, Drexel police, SEPTA, etc.)\n",
    "    * `HearingDate`: date of hearing.\n",
    "    * `HearingTime`: time of hearing.\n",
    "* Defendant Information (information about the defendant)\n",
    "    * `DefendantLastName`: last name of the defendant.  \n",
    "    * `DefendantFirstName`: first name of the defendant.\n",
    "    * `DefCity`: defendant's city of residence.\n",
    "    * `DefState`: defendant's state of residence.\n",
    "    * `DefZip`: defendant's zip code.\n",
    "    * `DOB`: defendant's DOB.\n",
    "    * `Sex`: defendant's sex.\n",
    "* Outcome information (information about the outcome of the citation)\n",
    "    * `AmountDue`: fines charged to defendant.\n",
    "    * `AmountPaid`: fines paid by the defendant.\n",
    "    * `ClosingDisposition`: judge's decision (guilty, not guilty, etc.)\n",
    "    * `DispoDate`: date disposition was issued.\n",
    "    * `JudgeAdmin`: name of judge presiding"
   ]
  },
  {
   "cell_type": "code",
   "execution_count": 62,
   "metadata": {
    "collapsed": false
   },
   "outputs": [
    {
     "data": {
      "text/plain": [
       "Index(['index', 'CitationNumber', 'FiledDate', 'IssueDate', 'ViolationCode',\n",
       "       'ViolationTitle', 'Location', 'Agency', 'DefendantLastName',\n",
       "       'DefendantFirstName', 'DefCity', 'DefState', 'DefZip', 'DOB', 'Sex',\n",
       "       'AmountDue', 'AmountPaid', 'ClosingDisposition', 'DispoDate',\n",
       "       'JudgeAdmin', 'OwnerLastName', 'OwnerFirstName', 'OwnerCity',\n",
       "       'OwnerState', 'OwnerZip', 'HearingDate', 'HearingTime'],\n",
       "      dtype='object')"
      ]
     },
     "execution_count": 62,
     "metadata": {},
     "output_type": "execute_result"
    }
   ],
   "source": [
    "data.columns"
   ]
  },
  {
   "cell_type": "code",
   "execution_count": 73,
   "metadata": {
    "collapsed": false
   },
   "outputs": [
    {
     "data": {
      "text/plain": [
       "' '"
      ]
     },
     "execution_count": 73,
     "metadata": {},
     "output_type": "execute_result"
    }
   ],
   "source": [
    "data.iloc[0]['OwnerLastName']"
   ]
  },
  {
   "cell_type": "code",
   "execution_count": null,
   "metadata": {
    "collapsed": true
   },
   "outputs": [],
   "source": []
  },
  {
   "cell_type": "markdown",
   "metadata": {},
   "source": [
    "## Cleaning Features"
   ]
  },
  {
   "cell_type": "code",
   "execution_count": 7,
   "metadata": {
    "collapsed": false
   },
   "outputs": [
    {
     "data": {
      "text/plain": [
       "Index(['index', 'CitationNumber', 'FiledDate', 'IssueDate', 'ViolationCode',\n",
       "       'ViolationTitle', 'Location', 'Agency', 'DefendantLastName',\n",
       "       'DefendantFirstName', 'DefCity', 'DefState', 'DefZip', 'DOB', 'Sex',\n",
       "       'AmountDue', 'AmountPaid', 'ClosingDisposition', 'DispoDate',\n",
       "       'JudgeAdmin', 'OwnerLastName', 'OwnerFirstName', 'OwnerCity',\n",
       "       'OwnerState', 'OwnerZip', 'HearingDate', 'HearingTime'],\n",
       "      dtype='object')"
      ]
     },
     "execution_count": 7,
     "metadata": {},
     "output_type": "execute_result"
    }
   ],
   "source": [
    "data.columns"
   ]
  },
  {
   "cell_type": "code",
   "execution_count": 8,
   "metadata": {
    "collapsed": false
   },
   "outputs": [
    {
     "name": "stdout",
     "output_type": "stream",
     "text": [
      "index: 0 NaNs\n",
      "CitationNumber: 0 NaNs\n",
      "FiledDate: 0 NaNs\n",
      "IssueDate: 0 NaNs\n",
      "ViolationCode: 0 NaNs\n",
      "ViolationTitle: 0 NaNs\n",
      "Location: 0 NaNs\n",
      "Agency: 0 NaNs\n",
      "DefendantLastName: 11 NaNs\n",
      "DefendantFirstName: 11 NaNs\n",
      "DefCity: 0 NaNs\n",
      "DefState: 2 NaNs\n",
      "DefZip: 0 NaNs\n",
      "DOB: 0 NaNs\n",
      "Sex: 0 NaNs\n",
      "AmountDue: 0 NaNs\n",
      "AmountPaid: 0 NaNs\n",
      "ClosingDisposition: 0 NaNs\n",
      "DispoDate: 0 NaNs\n",
      "JudgeAdmin: 0 NaNs\n",
      "OwnerLastName: 12 NaNs\n",
      "OwnerFirstName: 45 NaNs\n",
      "OwnerCity: 4 NaNs\n",
      "OwnerState: 2 NaNs\n",
      "OwnerZip: 0 NaNs\n",
      "HearingDate: 0 NaNs\n",
      "HearingTime: 0 NaNs\n"
     ]
    }
   ],
   "source": [
    "for feature in data.columns:\n",
    "    num_null = len(data[data[feature].isnull() == True])\n",
    "    print(feature + ':', num_null, 'NaNs')"
   ]
  },
  {
   "cell_type": "markdown",
   "metadata": {},
   "source": [
    "The dataset looks pretty good -- not much missing data. Now let's look at possible categories for our target."
   ]
  },
  {
   "cell_type": "code",
   "execution_count": 9,
   "metadata": {
    "collapsed": false,
    "scrolled": true
   },
   "outputs": [
    {
     "data": {
      "text/plain": [
       "[' ',\n",
       " '                    ',\n",
       " 'APPEAL DENIED',\n",
       " 'APPEAL DENIED       ',\n",
       " 'APPEAL FAIL TO APPR',\n",
       " 'APPEAL FAIL TO APPR ',\n",
       " 'APPEAL GLTY W/AMEND',\n",
       " 'APPEAL GLTY W/AMEND ',\n",
       " 'APPEAL GLTY W/REDUCT',\n",
       " 'APPEAL GUILTY IPP',\n",
       " 'APPEAL SUSTAINED',\n",
       " 'APPEAL SUSTAINED    ',\n",
       " 'APPEAL WITHDRAWN',\n",
       " 'APPEAL WITHDRAWN    ',\n",
       " 'COMMIT TRIAL SCHD',\n",
       " 'DECEASED',\n",
       " 'DECEASED            ',\n",
       " 'DISMISS IDENTY FRAUD',\n",
       " 'DISMISSAL',\n",
       " 'DISMISSAL           ',\n",
       " 'GLTY IN ABSN/R453/SO',\n",
       " 'GLTY IN ABSNTIA R453',\n",
       " 'GUILTY',\n",
       " 'GUILTY              ',\n",
       " 'GUILTY CHANGE PLEA',\n",
       " 'GUILTY CHANGE PLEA  ',\n",
       " 'GUILTY IN ABSENTIA',\n",
       " 'GUILTY IN ABSENTIA  ',\n",
       " 'GUILTY IPP',\n",
       " 'GUILTY IPP          ',\n",
       " 'GUILTY PLEA',\n",
       " 'GUILTY PLEA         ',\n",
       " 'GUILTY RULE 453',\n",
       " 'GUILTY RULE 453     ',\n",
       " 'GUILTY W/AMENDMENT',\n",
       " 'GUILTY W/AMENDMENT  ',\n",
       " 'GUILTY W/REDUCTION',\n",
       " 'GUILTY W/REDUCTION  ',\n",
       " 'NOT GLTY IN ABSENTIA',\n",
       " 'NOT GLTY STAT OF LIM',\n",
       " 'NOT GUILTY',\n",
       " 'NOT GUILTY          ',\n",
       " 'NOT GUILTY DECEASED',\n",
       " 'NUNC APL HEAR DENIED',\n",
       " 'NUNC APL HEAR GRNTED',\n",
       " 'PLEA BARGAIN',\n",
       " 'PLEA BARGAIN        ',\n",
       " 'PLED GUILTY AT TRIAL',\n",
       " 'PROSECUT W/DRAWN 147',\n",
       " 'PROSECUTION W/DRAWN',\n",
       " 'PROSECUTION W/DRAWN ',\n",
       " 'TIME SERVED FULL RED',\n",
       " 'VOID TICKET',\n",
       " 'VOID TICKET         ']"
      ]
     },
     "execution_count": 9,
     "metadata": {},
     "output_type": "execute_result"
    }
   ],
   "source": [
    "data['ClosingDisposition'].drop_duplicates().sort_values().tolist()"
   ]
  },
  {
   "cell_type": "markdown",
   "metadata": {},
   "source": [
    "Looks like a number of the categories are repeated with varying numbers of spaces, so let's clean that up:"
   ]
  },
  {
   "cell_type": "code",
   "execution_count": 10,
   "metadata": {
    "collapsed": false
   },
   "outputs": [],
   "source": [
    "def replaceValues(df, values):\n",
    "    \n",
    "    df2 = df.copy()\n",
    " \n",
    "    for k, v in values.items():\n",
    "        print('Replacing', v, 'with', k + '...')\n",
    "        df2.replace(to_replace=v, value=k, inplace=True)\n",
    "        \n",
    "    return df2"
   ]
  },
  {
   "cell_type": "code",
   "execution_count": 11,
   "metadata": {
    "collapsed": false,
    "scrolled": true
   },
   "outputs": [
    {
     "name": "stdout",
     "output_type": "stream",
     "text": [
      "Replacing APPEAL GLTY W/AMEND  with APPEAL GLTY W/AMEND...\n",
      "Replacing   with NaN...\n",
      "Replacing DISMISSAL            with DISMISSAL...\n",
      "Replacing NOT GUILTY           with NOT GUILTY...\n",
      "Replacing DECEASED             with DECEASED...\n",
      "Replacing PROSECUTION W/DRAWN  with PROSECUTION W/DRAWN...\n",
      "Replacing GUILTY RULE 453      with GUILTY RULE 453...\n",
      "Replacing GUILTY IN ABSENTIA   with GUILTY IN ABSENTIA...\n",
      "Replacing GUILTY PLEA          with GUILTY PLEA...\n",
      "Replacing VOID TICKET          with VOID TICKET...\n",
      "Replacing                      with NaN2...\n",
      "Replacing APPEAL DENIED        with APPEAL DENIED...\n",
      "Replacing PLEA BARGAIN         with PLEA BARGAIN...\n",
      "Replacing GUILTY IPP           with GUILTY IPP...\n",
      "Replacing APPEAL WITHDRAWN     with APPEAL WITHDRAWN...\n",
      "Replacing GUILTY W/REDUCTION   with GUILTY W/REDUCTION...\n",
      "Replacing APPEAL SUSTAINED     with APPEAL SUSTAINED...\n",
      "Replacing GUILTY CHANGE PLEA   with GUILTY CHANGE PLEA...\n",
      "Replacing GUILTY               with GUILTY...\n",
      "Replacing GUILTY W/AMENDMENT   with GUILTY W/AMENDMENT...\n",
      "Replacing APPEAL FAIL TO APPR  with APPEAL FAIL TO APPR...\n"
     ]
    }
   ],
   "source": [
    "replace_dict = {'NaN': ' ',\n",
    "                'APPEAL DENIED': 'APPEAL DENIED       ', \n",
    "                'APPEAL FAIL TO APPR': 'APPEAL FAIL TO APPR ', \n",
    "                'APPEAL GLTY W/AMEND': 'APPEAL GLTY W/AMEND ', \n",
    "               'APPEAL SUSTAINED': 'APPEAL SUSTAINED    ',\n",
    "               'APPEAL WITHDRAWN': 'APPEAL WITHDRAWN    ',\n",
    "               'DECEASED': 'DECEASED            ',\n",
    "               'DISMISSAL': 'DISMISSAL           ',\n",
    "               'GUILTY': 'GUILTY              ',\n",
    "               'GUILTY CHANGE PLEA': 'GUILTY CHANGE PLEA  ',\n",
    "               'GUILTY IN ABSENTIA': 'GUILTY IN ABSENTIA  ',\n",
    "               'GUILTY IPP': 'GUILTY IPP          ',\n",
    "               'GUILTY PLEA': 'GUILTY PLEA         ',\n",
    "               'GUILTY RULE 453': 'GUILTY RULE 453     ',\n",
    "               'GUILTY W/AMENDMENT': 'GUILTY W/AMENDMENT  ',\n",
    "               'GUILTY W/REDUCTION': 'GUILTY W/REDUCTION  ',\n",
    "               'NOT GUILTY': 'NOT GUILTY          ',\n",
    "               'PLEA BARGAIN': 'PLEA BARGAIN        ',\n",
    "               'PROSECUTION W/DRAWN': 'PROSECUTION W/DRAWN ',\n",
    "               'VOID TICKET': 'VOID TICKET         ',\n",
    "               'NaN2': '                    ',}\n",
    "\n",
    "data2 = replaceValues(data, replace_dict)"
   ]
  },
  {
   "cell_type": "code",
   "execution_count": 12,
   "metadata": {
    "collapsed": true
   },
   "outputs": [],
   "source": [
    "data2.replace(to_replace='NaN2', value='NaN', inplace=True)"
   ]
  },
  {
   "cell_type": "code",
   "execution_count": 13,
   "metadata": {
    "collapsed": false,
    "scrolled": true
   },
   "outputs": [
    {
     "data": {
      "text/plain": [
       "['APPEAL DENIED',\n",
       " 'APPEAL FAIL TO APPR',\n",
       " 'APPEAL GLTY W/AMEND',\n",
       " 'APPEAL GLTY W/REDUCT',\n",
       " 'APPEAL GUILTY IPP',\n",
       " 'APPEAL SUSTAINED',\n",
       " 'APPEAL WITHDRAWN',\n",
       " 'COMMIT TRIAL SCHD',\n",
       " 'DECEASED',\n",
       " 'DISMISS IDENTY FRAUD',\n",
       " 'DISMISSAL',\n",
       " 'GLTY IN ABSN/R453/SO',\n",
       " 'GLTY IN ABSNTIA R453',\n",
       " 'GUILTY',\n",
       " 'GUILTY CHANGE PLEA',\n",
       " 'GUILTY IN ABSENTIA',\n",
       " 'GUILTY IPP',\n",
       " 'GUILTY PLEA',\n",
       " 'GUILTY RULE 453',\n",
       " 'GUILTY W/AMENDMENT',\n",
       " 'GUILTY W/REDUCTION',\n",
       " 'NOT GLTY IN ABSENTIA',\n",
       " 'NOT GLTY STAT OF LIM',\n",
       " 'NOT GUILTY',\n",
       " 'NOT GUILTY DECEASED',\n",
       " 'NUNC APL HEAR DENIED',\n",
       " 'NUNC APL HEAR GRNTED',\n",
       " 'NaN',\n",
       " 'PLEA BARGAIN',\n",
       " 'PLED GUILTY AT TRIAL',\n",
       " 'PROSECUT W/DRAWN 147',\n",
       " 'PROSECUTION W/DRAWN',\n",
       " 'TIME SERVED FULL RED',\n",
       " 'VOID TICKET']"
      ]
     },
     "execution_count": 13,
     "metadata": {},
     "output_type": "execute_result"
    }
   ],
   "source": [
    "data2['ClosingDisposition'].drop_duplicates().sort_values().tolist()"
   ]
  },
  {
   "cell_type": "code",
   "execution_count": 14,
   "metadata": {
    "collapsed": false
   },
   "outputs": [
    {
     "data": {
      "text/plain": [
       "NOT GUILTY              241802\n",
       "GUILTY IN ABSENTIA      192769\n",
       "GLTY IN ABSNTIA R453    169376\n",
       "GUILTY IPP              128967\n",
       "GUILTY PLEA              79460\n",
       "NaN                      38879\n",
       "PROSECUTION W/DRAWN      35034\n",
       "PLEA BARGAIN             21606\n",
       "DISMISSAL                19787\n",
       "APPEAL SUSTAINED         18272\n",
       "APPEAL GLTY W/AMEND      13642\n",
       "NOT GLTY IN ABSENTIA     12058\n",
       "APPEAL FAIL TO APPR      10528\n",
       "GUILTY                    9954\n",
       "NOT GLTY STAT OF LIM      4838\n",
       "APPEAL DENIED             4414\n",
       "DISMISS IDENTY FRAUD      3499\n",
       "GUILTY W/AMENDMENT        3022\n",
       "GUILTY RULE 453           2556\n",
       "DECEASED                  2198\n",
       "GUILTY W/REDUCTION        2087\n",
       "VOID TICKET               1746\n",
       "NUNC APL HEAR GRNTED      1682\n",
       "NUNC APL HEAR DENIED      1563\n",
       "PLED GUILTY AT TRIAL      1288\n",
       "GUILTY CHANGE PLEA        1273\n",
       "PROSECUT W/DRAWN 147       880\n",
       "APPEAL WITHDRAWN           859\n",
       "APPEAL GLTY W/REDUCT       236\n",
       "NOT GUILTY DECEASED         13\n",
       "TIME SERVED FULL RED        11\n",
       "COMMIT TRIAL SCHD            2\n",
       "GLTY IN ABSN/R453/SO         1\n",
       "APPEAL GUILTY IPP            1\n",
       "Name: ClosingDisposition, dtype: int64"
      ]
     },
     "execution_count": 14,
     "metadata": {},
     "output_type": "execute_result"
    }
   ],
   "source": [
    "data2['ClosingDisposition'].value_counts()"
   ]
  },
  {
   "cell_type": "markdown",
   "metadata": {},
   "source": [
    "We might think that some `ClosingDisposition`s might be the same (e.g. `GLTY IN ABSN/R453/SO` and `GLTY IN ABSNTIA R453`) but we'll think about that later.\n",
    "\n",
    "Now, we'll create an easier way to refer to `ClosingDisposition`s."
   ]
  },
  {
   "cell_type": "code",
   "execution_count": 15,
   "metadata": {
    "collapsed": true
   },
   "outputs": [],
   "source": [
    "def addEnum(df, category_name):\n",
    "    \n",
    "    df2 = df.copy()\n",
    "    \n",
    "    enum_name = category_name + '_Enum'\n",
    "    \n",
    "    categories = list(df[category_name].drop_duplicates())\n",
    "    enums = list(range(len(categories)))\n",
    "    \n",
    "    enum_dict = dict(zip(categories, enums))\n",
    "    \n",
    "    enum_list = [enum_dict[x] for x in df[category_name].tolist()]\n",
    "    \n",
    "    df2[enum_name] = enum_list\n",
    "    \n",
    "    return df2\n",
    "    "
   ]
  },
  {
   "cell_type": "code",
   "execution_count": 16,
   "metadata": {
    "collapsed": false,
    "scrolled": true
   },
   "outputs": [],
   "source": [
    "data3 = addEnum(data2, 'ClosingDisposition')"
   ]
  },
  {
   "cell_type": "code",
   "execution_count": 17,
   "metadata": {
    "collapsed": true
   },
   "outputs": [],
   "source": [
    "data3 = addEnum(data3, 'ViolationCode')"
   ]
  },
  {
   "cell_type": "code",
   "execution_count": 18,
   "metadata": {
    "collapsed": true
   },
   "outputs": [],
   "source": [
    "data3 = addEnum(data3, 'ViolationTitle')"
   ]
  },
  {
   "cell_type": "code",
   "execution_count": 19,
   "metadata": {
    "collapsed": true
   },
   "outputs": [],
   "source": [
    "data3 = addEnum(data3, 'Agency')"
   ]
  },
  {
   "cell_type": "code",
   "execution_count": 20,
   "metadata": {
    "collapsed": false
   },
   "outputs": [],
   "source": [
    "data3 = addEnum(data3, 'Sex')"
   ]
  },
  {
   "cell_type": "code",
   "execution_count": 21,
   "metadata": {
    "collapsed": false
   },
   "outputs": [],
   "source": [
    "data3 = addEnum(data3, 'JudgeAdmin')"
   ]
  },
  {
   "cell_type": "code",
   "execution_count": 22,
   "metadata": {
    "collapsed": false,
    "scrolled": true
   },
   "outputs": [
    {
     "data": {
      "text/plain": [
       "Index(['index', 'CitationNumber', 'FiledDate', 'IssueDate', 'ViolationCode',\n",
       "       'ViolationTitle', 'Location', 'Agency', 'DefendantLastName',\n",
       "       'DefendantFirstName', 'DefCity', 'DefState', 'DefZip', 'DOB', 'Sex',\n",
       "       'AmountDue', 'AmountPaid', 'ClosingDisposition', 'DispoDate',\n",
       "       'JudgeAdmin', 'OwnerLastName', 'OwnerFirstName', 'OwnerCity',\n",
       "       'OwnerState', 'OwnerZip', 'HearingDate', 'HearingTime',\n",
       "       'ClosingDisposition_Enum', 'ViolationCode_Enum', 'ViolationTitle_Enum',\n",
       "       'Agency_Enum', 'Sex_Enum', 'JudgeAdmin_Enum'],\n",
       "      dtype='object')"
      ]
     },
     "execution_count": 22,
     "metadata": {},
     "output_type": "execute_result"
    }
   ],
   "source": [
    "data3.columns"
   ]
  },
  {
   "cell_type": "code",
   "execution_count": 23,
   "metadata": {
    "collapsed": false
   },
   "outputs": [],
   "source": [
    "# Convert dates to numbers\n",
    "\n",
    "def dateToOrd(df, date_column): # Converts dates to ordinal\n",
    "    \n",
    "    df2 = df.copy()\n",
    "    \n",
    "    new_col = date_column + \"_Ordinal\"\n",
    "    date_list = pd.to_datetime(df[date_column], format='%m/%d/%Y', errors='coerce').tolist()\n",
    "    \n",
    "    #prob_index = list()\n",
    "    #for i in range(len(date_list)):\n",
    "    #    try:\n",
    "    #       date_list[i].toordinal()\n",
    "    #    except ValueError:\n",
    "    #        prob_index += [i]\n",
    "\n",
    "    df2[new_col] = [x.toordinal() for x in date_list]\n",
    "    \n",
    "    return df2\n",
    "    #return prob_index"
   ]
  },
  {
   "cell_type": "code",
   "execution_count": 24,
   "metadata": {
    "collapsed": false
   },
   "outputs": [],
   "source": [
    "data4 = dateToOrd(data3, 'FiledDate')"
   ]
  },
  {
   "cell_type": "code",
   "execution_count": 25,
   "metadata": {
    "collapsed": false
   },
   "outputs": [],
   "source": [
    "data4 = dateToOrd(data4, 'IssueDate')"
   ]
  },
  {
   "cell_type": "markdown",
   "metadata": {},
   "source": [
    "We have a bit of an issue with `HearingDate` because some entries are not present. For now, we'll drop those rows."
   ]
  },
  {
   "cell_type": "code",
   "execution_count": 26,
   "metadata": {
    "collapsed": false
   },
   "outputs": [],
   "source": [
    "data4 = data4[data4['HearingDate'].str.contains('\\d')] # drops dates that are not valid"
   ]
  },
  {
   "cell_type": "code",
   "execution_count": 27,
   "metadata": {
    "collapsed": false
   },
   "outputs": [
    {
     "name": "stdout",
     "output_type": "stream",
     "text": [
      "Percent of rows dropped: 0.66%\n"
     ]
    }
   ],
   "source": [
    "pct = str(round((1-(len(data4)/len(data3)))*100, 2))\n",
    "\n",
    "print(\"Percent of rows dropped:\", pct + \"%\")"
   ]
  },
  {
   "cell_type": "code",
   "execution_count": 28,
   "metadata": {
    "collapsed": false
   },
   "outputs": [],
   "source": [
    "data4 = dateToOrd(data4, 'HearingDate')"
   ]
  },
  {
   "cell_type": "code",
   "execution_count": 29,
   "metadata": {
    "collapsed": false
   },
   "outputs": [
    {
     "data": {
      "text/plain": [
       "Index(['index', 'CitationNumber', 'FiledDate', 'IssueDate', 'ViolationCode',\n",
       "       'ViolationTitle', 'Location', 'Agency', 'DefendantLastName',\n",
       "       'DefendantFirstName', 'DefCity', 'DefState', 'DefZip', 'DOB', 'Sex',\n",
       "       'AmountDue', 'AmountPaid', 'ClosingDisposition', 'DispoDate',\n",
       "       'JudgeAdmin', 'OwnerLastName', 'OwnerFirstName', 'OwnerCity',\n",
       "       'OwnerState', 'OwnerZip', 'HearingDate', 'HearingTime',\n",
       "       'ClosingDisposition_Enum', 'ViolationCode_Enum', 'ViolationTitle_Enum',\n",
       "       'Agency_Enum', 'Sex_Enum', 'JudgeAdmin_Enum', 'FiledDate_Ordinal',\n",
       "       'IssueDate_Ordinal', 'HearingDate_Ordinal'],\n",
       "      dtype='object')"
      ]
     },
     "execution_count": 29,
     "metadata": {},
     "output_type": "execute_result"
    }
   ],
   "source": [
    "data4.columns"
   ]
  },
  {
   "cell_type": "markdown",
   "metadata": {},
   "source": [
    "### Initial Model"
   ]
  },
  {
   "cell_type": "code",
   "execution_count": 30,
   "metadata": {
    "collapsed": false
   },
   "outputs": [],
   "source": [
    "m1df = data4[['ClosingDisposition_Enum', 'ViolationCode_Enum',\n",
    "             'ViolationTitle_Enum', 'Agency_Enum', 'Sex_Enum',\n",
    "             'JudgeAdmin_Enum', 'FiledDate_Ordinal', 'IssueDate_Ordinal',\n",
    "             'HearingDate_Ordinal']]"
   ]
  },
  {
   "cell_type": "code",
   "execution_count": 31,
   "metadata": {
    "collapsed": false
   },
   "outputs": [],
   "source": [
    "y_m1df = m1df['ClosingDisposition_Enum']"
   ]
  },
  {
   "cell_type": "code",
   "execution_count": 32,
   "metadata": {
    "collapsed": true
   },
   "outputs": [],
   "source": [
    "X_m1df = m1df[['ViolationCode_Enum',\n",
    "             'ViolationTitle_Enum', 'Agency_Enum', 'Sex_Enum',\n",
    "             'JudgeAdmin_Enum', 'FiledDate_Ordinal', 'IssueDate_Ordinal',\n",
    "             'HearingDate_Ordinal']]"
   ]
  },
  {
   "cell_type": "code",
   "execution_count": 33,
   "metadata": {
    "collapsed": true
   },
   "outputs": [],
   "source": [
    "X_tr, X_ts, y_tr, y_ts = model_selection.train_test_split(X_m1df, y_m1df, test_size=0.20, random_state=33)"
   ]
  },
  {
   "cell_type": "code",
   "execution_count": 34,
   "metadata": {
    "collapsed": false
   },
   "outputs": [
    {
     "name": "stdout",
     "output_type": "stream",
     "text": [
      "RFC score: 0.571049515264\n"
     ]
    }
   ],
   "source": [
    "rfc = ensemble.RandomForestClassifier()\n",
    "rfc.fit(X_tr, y_tr)\n",
    "print('RFC score:', rfc.score(X_ts, y_ts))"
   ]
  },
  {
   "cell_type": "markdown",
   "metadata": {},
   "source": [
    "To put this score in perspective, we can create a \"baseline\" model: always guessing the most common closing disposition. In this case..."
   ]
  },
  {
   "cell_type": "code",
   "execution_count": 35,
   "metadata": {
    "collapsed": false
   },
   "outputs": [
    {
     "data": {
      "text/plain": [
       "0     241802\n",
       "2     191900\n",
       "3     168481\n",
       "7     128737\n",
       "6      79460\n",
       "1      35684\n",
       "10     35034\n",
       "29     21606\n",
       "22     19787\n",
       "5      18272\n",
       "8      13614\n",
       "9      12058\n",
       "12     10470\n",
       "11      9949\n",
       "4       4838\n",
       "14      4402\n",
       "21      3499\n",
       "16      3013\n",
       "15      2555\n",
       "20      2086\n",
       "17      1749\n",
       "27      1682\n",
       "23      1559\n",
       "32      1288\n",
       "24      1272\n",
       "18       880\n",
       "19       856\n",
       "13       765\n",
       "26       236\n",
       "31        13\n",
       "25        11\n",
       "28         2\n",
       "30         1\n",
       "33         1\n",
       "Name: ClosingDisposition_Enum, dtype: int64"
      ]
     },
     "execution_count": 35,
     "metadata": {},
     "output_type": "execute_result"
    }
   ],
   "source": [
    "m1df['ClosingDisposition_Enum'].value_counts().sort_values(ascending=False)"
   ]
  },
  {
   "cell_type": "code",
   "execution_count": 36,
   "metadata": {
    "collapsed": false
   },
   "outputs": [
    {
     "name": "stdout",
     "output_type": "stream",
     "text": [
      "Baseline score: 0.23762876365273075\n"
     ]
    }
   ],
   "source": [
    "print(\"Baseline score:\", 241802/len(m1df))"
   ]
  },
  {
   "cell_type": "markdown",
   "metadata": {},
   "source": [
    "Compared to this baseline score of `0.2376`, our random forests classifier is performing reasonably well (`0.5722`). Let's look at the feature weights."
   ]
  },
  {
   "cell_type": "code",
   "execution_count": 45,
   "metadata": {
    "collapsed": false
   },
   "outputs": [],
   "source": [
    "def getFeatureWeights(features, weights): #Gets feature weights for RFC\n",
    "    feature_weights_dict = dict(zip(features, weights))\n",
    "    sorted_feature_weights_dict = sorted(feature_weights_dict.items(), key=operator.itemgetter(1), reverse=True)\n",
    "    \n",
    "    print(\"Feature Weights:\")\n",
    "    \n",
    "    return sorted_feature_weights_dict"
   ]
  },
  {
   "cell_type": "code",
   "execution_count": null,
   "metadata": {
    "collapsed": true
   },
   "outputs": [],
   "source": [
    "getFeatureWeights(list(X_tr.columns), list(rfc.feature_importances_))"
   ]
  },
  {
   "cell_type": "markdown",
   "metadata": {},
   "source": [
    "With standard scaling:"
   ]
  },
  {
   "cell_type": "code",
   "execution_count": 196,
   "metadata": {
    "collapsed": false,
    "scrolled": true
   },
   "outputs": [
    {
     "name": "stdout",
     "output_type": "stream",
     "text": [
      "rfc_ss score: 0.572056821923\n",
      "Feature importances: [ 0.07503941  0.07026839  0.01206139  0.01924478  0.21944553  0.19638459\n",
      "  0.18325193  0.22430398]\n"
     ]
    }
   ],
   "source": [
    "rfc_ss = ensemble.RandomForestClassifier()\n",
    "rfc_ss.fit(X_tr_ss, y_tr)\n",
    "print('rfc_ss score:', rfc_ss.score(X_ts_ss, y_ts))"
   ]
  },
  {
   "cell_type": "code",
   "execution_count": null,
   "metadata": {
    "collapsed": true
   },
   "outputs": [],
   "source": [
    "getFeatureWeights(list(X_tr.columns), list(rfc_ss.feature_importances_))"
   ]
  },
  {
   "cell_type": "markdown",
   "metadata": {},
   "source": [
    "Is date redundant?"
   ]
  },
  {
   "cell_type": "code",
   "execution_count": 39,
   "metadata": {
    "collapsed": false
   },
   "outputs": [],
   "source": [
    "dates = X_m1df[['FiledDate_Ordinal', 'IssueDate_Ordinal', 'HearingDate_Ordinal']]"
   ]
  },
  {
   "cell_type": "code",
   "execution_count": 40,
   "metadata": {
    "collapsed": false
   },
   "outputs": [
    {
     "data": {
      "text/plain": [
       "array([[ 1.        ,  0.99987709,  0.77971149],\n",
       "       [ 0.99987709,  1.        ,  0.77958949],\n",
       "       [ 0.77971149,  0.77958949,  1.        ]])"
      ]
     },
     "execution_count": 40,
     "metadata": {},
     "output_type": "execute_result"
    }
   ],
   "source": [
    "np.corrcoef(dates, rowvar=False)"
   ]
  },
  {
   "cell_type": "markdown",
   "metadata": {},
   "source": [
    "`FiledDate` and `IssueDate` are virtually completely correlated, so we'll remove one as a feature."
   ]
  },
  {
   "cell_type": "code",
   "execution_count": 41,
   "metadata": {
    "collapsed": true
   },
   "outputs": [],
   "source": [
    "m2df = data4[['ClosingDisposition_Enum', 'ViolationCode_Enum',\n",
    "             'ViolationTitle_Enum', 'Agency_Enum', 'Sex_Enum',\n",
    "             'JudgeAdmin_Enum', 'FiledDate_Ordinal',\n",
    "             'HearingDate_Ordinal']]\n",
    "\n",
    "X_m2df = m2df[['ViolationCode_Enum',\n",
    "             'ViolationTitle_Enum', 'Agency_Enum', 'Sex_Enum',\n",
    "             'JudgeAdmin_Enum', 'FiledDate_Ordinal',\n",
    "             'HearingDate_Ordinal']]\n",
    "y_m2df = m2df['ClosingDisposition_Enum']"
   ]
  },
  {
   "cell_type": "code",
   "execution_count": 42,
   "metadata": {
    "collapsed": true
   },
   "outputs": [],
   "source": [
    "X_tr, X_ts, y_tr, y_ts = model_selection.train_test_split(X_m2df, y_m2df, test_size=0.20, random_state=33)"
   ]
  },
  {
   "cell_type": "code",
   "execution_count": 43,
   "metadata": {
    "collapsed": false
   },
   "outputs": [
    {
     "name": "stdout",
     "output_type": "stream",
     "text": [
      "RFC score: 0.56837155366\n"
     ]
    }
   ],
   "source": [
    "rfc3 = ensemble.RandomForestClassifier()\n",
    "rfc3.fit(X_tr, y_tr)\n",
    "print('RFC score:', rfc3.score(X_ts, y_ts))"
   ]
  },
  {
   "cell_type": "code",
   "execution_count": 49,
   "metadata": {
    "collapsed": false
   },
   "outputs": [
    {
     "name": "stdout",
     "output_type": "stream",
     "text": [
      "Feature Weights:\n"
     ]
    },
    {
     "data": {
      "text/plain": [
       "[('HearingDate_Ordinal', 0.30532733272162565),\n",
       " ('FiledDate_Ordinal', 0.29064740801733396),\n",
       " ('JudgeAdmin_Enum', 0.23465278767389766),\n",
       " ('ViolationCode_Enum', 0.071611823832139529),\n",
       " ('ViolationTitle_Enum', 0.068053848663122612),\n",
       " ('Sex_Enum', 0.017697196580768425),\n",
       " ('Agency_Enum', 0.012009602511112084)]"
      ]
     },
     "execution_count": 49,
     "metadata": {},
     "output_type": "execute_result"
    }
   ],
   "source": [
    "getFeatureWeights(list(X_tr.columns), list(rfc3.feature_importances_))"
   ]
  },
  {
   "cell_type": "code",
   "execution_count": 50,
   "metadata": {
    "collapsed": true
   },
   "outputs": [],
   "source": [
    "# Add day of week enum\n",
    "\n",
    "m3df = data4[['ClosingDisposition_Enum', 'ViolationCode_Enum',\n",
    "             'ViolationTitle_Enum', 'Agency_Enum', 'Sex_Enum',\n",
    "             'JudgeAdmin_Enum', 'FiledDate_Ordinal',\n",
    "             'HearingDate_Ordinal']]"
   ]
  },
  {
   "cell_type": "code",
   "execution_count": 53,
   "metadata": {
    "collapsed": false
   },
   "outputs": [
    {
     "name": "stderr",
     "output_type": "stream",
     "text": [
      "/Users/lucy/miniconda3/lib/python3.5/site-packages/ipykernel/__main__.py:1: SettingWithCopyWarning: \n",
      "A value is trying to be set on a copy of a slice from a DataFrame.\n",
      "Try using .loc[row_indexer,col_indexer] = value instead\n",
      "\n",
      "See the caveats in the documentation: http://pandas.pydata.org/pandas-docs/stable/indexing.html#indexing-view-versus-copy\n",
      "  if __name__ == '__main__':\n"
     ]
    }
   ],
   "source": [
    "m3df['HearingDate_Day'] = [datetime.fromordinal(x).weekday() for x in m3df['HearingDate_Ordinal']]"
   ]
  },
  {
   "cell_type": "code",
   "execution_count": 56,
   "metadata": {
    "collapsed": true
   },
   "outputs": [],
   "source": [
    "X_m3df = m3df[['ViolationCode_Enum',\n",
    "             'ViolationTitle_Enum', 'Agency_Enum', 'Sex_Enum',\n",
    "             'JudgeAdmin_Enum', 'FiledDate_Ordinal',\n",
    "             'HearingDate_Ordinal', 'HearingDate_Day']]\n",
    "y_m3df = m3df['ClosingDisposition_Enum']"
   ]
  },
  {
   "cell_type": "code",
   "execution_count": 57,
   "metadata": {
    "collapsed": true
   },
   "outputs": [],
   "source": [
    "X_tr, X_ts, y_tr, y_ts = model_selection.train_test_split(X_m3df, y_m3df, test_size=0.20, random_state=33)"
   ]
  },
  {
   "cell_type": "code",
   "execution_count": 58,
   "metadata": {
    "collapsed": false
   },
   "outputs": [
    {
     "data": {
      "text/plain": [
       "0.57196346179359547"
      ]
     },
     "execution_count": 58,
     "metadata": {},
     "output_type": "execute_result"
    }
   ],
   "source": [
    "rfc3 = ensemble.RandomForestClassifier()\n",
    "rfc3.fit(X_tr, y_tr)\n",
    "rfc3.score(X_ts, y_ts)"
   ]
  },
  {
   "cell_type": "code",
   "execution_count": null,
   "metadata": {
    "collapsed": true
   },
   "outputs": [],
   "source": [
    "# Feature ideas: Add day of week "
   ]
  },
  {
   "cell_type": "code",
   "execution_count": 54,
   "metadata": {
    "collapsed": false
   },
   "outputs": [
    {
     "data": {
      "text/plain": [
       "0          1\n",
       "1          1\n",
       "2          2\n",
       "3          2\n",
       "4          2\n",
       "5          1\n",
       "6          2\n",
       "7          2\n",
       "8          4\n",
       "9          4\n",
       "10         4\n",
       "11         4\n",
       "12         0\n",
       "13         4\n",
       "14         4\n",
       "15         0\n",
       "16         0\n",
       "17         0\n",
       "18         0\n",
       "19         2\n",
       "20         2\n",
       "21         0\n",
       "22         0\n",
       "23         2\n",
       "24         2\n",
       "25         2\n",
       "26         3\n",
       "27         3\n",
       "28         3\n",
       "29         3\n",
       "          ..\n",
       "1024273    1\n",
       "1024274    1\n",
       "1024275    1\n",
       "1024276    1\n",
       "1024277    1\n",
       "1024278    1\n",
       "1024279    0\n",
       "1024280    0\n",
       "1024281    0\n",
       "1024282    1\n",
       "1024283    0\n",
       "1024284    1\n",
       "1024285    1\n",
       "1024286    1\n",
       "1024287    1\n",
       "1024288    1\n",
       "1024289    1\n",
       "1024290    1\n",
       "1024291    1\n",
       "1024292    1\n",
       "1024293    1\n",
       "1024294    1\n",
       "1024295    1\n",
       "1024296    0\n",
       "1024297    2\n",
       "1024298    2\n",
       "1024299    2\n",
       "1024300    1\n",
       "1024301    2\n",
       "1024302    1\n",
       "Name: HearingDate_Day, Length: 1017562, dtype: int64"
      ]
     },
     "execution_count": 54,
     "metadata": {},
     "output_type": "execute_result"
    }
   ],
   "source": [
    "m3df['HearingDate_Day']"
   ]
  }
 ],
 "metadata": {
  "kernelspec": {
   "display_name": "Python 3",
   "language": "python",
   "name": "python3"
  },
  "language_info": {
   "codemirror_mode": {
    "name": "ipython",
    "version": 3
   },
   "file_extension": ".py",
   "mimetype": "text/x-python",
   "name": "python",
   "nbconvert_exporter": "python",
   "pygments_lexer": "ipython3",
   "version": "3.5.2"
  }
 },
 "nbformat": 4,
 "nbformat_minor": 2
}
